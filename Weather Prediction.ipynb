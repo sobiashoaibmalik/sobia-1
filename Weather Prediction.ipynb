{
 "cells": [
  {
   "cell_type": "code",
   "execution_count": null,
   "id": "7b92327e-a547-4b8a-9a04-0d70d5bb71e0",
   "metadata": {},
   "outputs": [],
   "source": [
    "import pandas as pd"
   ]
  },
  {
   "cell_type": "code",
   "execution_count": null,
   "id": "0ae7988d-18c8-441b-8116-053b4a605b74",
   "metadata": {},
   "outputs": [],
   "source": [
    "df = pd.read_csv(\"seattle-weather.csv\")\n",
    "df.head()"
   ]
  },
  {
   "cell_type": "code",
   "execution_count": null,
   "id": "4c9b8274-9d12-41f8-81e8-0fd9b664624e",
   "metadata": {},
   "outputs": [],
   "source": [
    "df.isnull().sum()"
   ]
  },
  {
   "cell_type": "code",
   "execution_count": null,
   "id": "e1e0eb43-b13e-4e75-a5f8-535ea406a87e",
   "metadata": {},
   "outputs": [],
   "source": [
    "def LabelEncoding(c):\n",
    "    from sklearn import preprocessing\n",
    "    le = preprocessing.LabelEncoder()\n",
    "    df[c]= le.fit_transform(df[c])\n",
    "    df[c].unique()\n",
    "LabelEncoding(\"weather\")\n",
    "df"
   ]
  },
  {
   "cell_type": "code",
   "execution_count": null,
   "id": "96e0ed86-06e3-42a6-8d2b-3ee703378a38",
   "metadata": {},
   "outputs": [],
   "source": [
    "cols = ['precipitation' , 'temp_max', 'temp_min', 'wind']"
   ]
  },
  {
   "cell_type": "code",
   "execution_count": null,
   "id": "17065229-87b6-47e1-956e-59ed6ffb1d58",
   "metadata": {},
   "outputs": [],
   "source": [
    "def normalize(df,cols):\n",
    "    for x in cols:\n",
    "        df[x] = df[x]/df[x].max()\n",
    "normalize(df,cols)\n",
    "df"
   ]
  },
  {
   "cell_type": "code",
   "execution_count": null,
   "id": "7cf83106-6d70-4467-bdd6-55c5073c15ef",
   "metadata": {},
   "outputs": [],
   "source": [
    "df = df.drop('date',axis=1)\n",
    "df"
   ]
  },
  {
   "cell_type": "code",
   "execution_count": null,
   "id": "9ed82c02-8573-4576-b498-4df78ff8c990",
   "metadata": {},
   "outputs": [],
   "source": [
    "x = df.drop('weather',axis=1)\n",
    "y = df['weather']"
   ]
  },
  {
   "cell_type": "code",
   "execution_count": null,
   "id": "712c0785-4969-46d9-a549-c92419c53157",
   "metadata": {},
   "outputs": [],
   "source": [
    "from sklearn.model_selection import train_test_split\n",
    "X_train, X_test, y_train, y_test = train_test_split(x, y, test_size = 0.2, random_state = 0)"
   ]
  },
  {
   "cell_type": "code",
   "execution_count": null,
   "id": "9dfb2ea1-03cf-4c4e-9f89-75308c026761",
   "metadata": {},
   "outputs": [],
   "source": [
    "from xgboost import XGBClassifier"
   ]
  },
  {
   "cell_type": "code",
   "execution_count": null,
   "id": "f8fdd011-d220-477f-8300-885c87413441",
   "metadata": {},
   "outputs": [],
   "source": [
    "xg = XGBClassifier()\n",
    "xg.fit(X_train, y_train)"
   ]
  },
  {
   "cell_type": "code",
   "execution_count": null,
   "id": "3365da7f-a817-4136-8013-e3d8c22ad60d",
   "metadata": {},
   "outputs": [],
   "source": [
    "xg.get_params()"
   ]
  },
  {
   "cell_type": "code",
   "execution_count": null,
   "id": "64fc47ff-d629-42f0-bd4c-296d38fb0e01",
   "metadata": {},
   "outputs": [],
   "source": [
    "from sklearn.metrics import classification_report, accuracy_score"
   ]
  },
  {
   "cell_type": "code",
   "execution_count": null,
   "id": "fc1b3c42-5e57-4cf8-ace3-15f8656dc8c7",
   "metadata": {},
   "outputs": [],
   "source": [
    "y_hat = xg.predict(X_test)\n",
    "print(accuracy_score(y_test,y_hat))\n",
    "print(classification_report(y_test,y_hat))"
   ]
  },
  {
   "cell_type": "code",
   "execution_count": null,
   "id": "48c1e58f-da15-4f2f-a5cd-aacb27a50b39",
   "metadata": {},
   "outputs": [],
   "source": [
    "grid = {'learning_rate': [0.1,1, 0.01, 0.001], 'gamma':[0,1,10,100]}"
   ]
  },
  {
   "cell_type": "code",
   "execution_count": null,
   "id": "53d6ab1e-7e76-4e76-903c-9e0b01d25640",
   "metadata": {},
   "outputs": [],
   "source": [
    "from sklearn.model_selection import GridSearchCV"
   ]
  },
  {
   "cell_type": "code",
   "execution_count": null,
   "id": "425c4311-a072-4116-9c77-5a66dec895ee",
   "metadata": {},
   "outputs": [],
   "source": [
    "model = GridSearchCV(XGBClassifier(), grid, cv=10, verbose=2)"
   ]
  },
  {
   "cell_type": "code",
   "execution_count": null,
   "id": "ce12241a-4ee1-4d00-8bb6-9216ee8ec131",
   "metadata": {},
   "outputs": [],
   "source": [
    "model.fit(X_train, y_train)"
   ]
  },
  {
   "cell_type": "code",
   "execution_count": null,
   "id": "b0ece1d2-1496-43b8-980e-c8771af94288",
   "metadata": {},
   "outputs": [],
   "source": [
    "grid_predictions = model.predict(X_test)\n",
    "print(accuracy_score(y_test,grid_predictions))\n",
    "print(classification_report(y_test,grid_predictions))"
   ]
  },
  {
   "cell_type": "code",
   "execution_count": null,
   "id": "9afd7069-2c0c-41a6-92b4-e8228a058a31",
   "metadata": {},
   "outputs": [],
   "source": [
    "print(model.best_estimator_)"
   ]
  },
  {
   "cell_type": "code",
   "execution_count": null,
   "id": "ca00c195-7cf8-4138-ad09-78c9de865ecb",
   "metadata": {},
   "outputs": [],
   "source": []
  }
 ],
 "metadata": {
  "kernelspec": {
   "display_name": "Python 3 (ipykernel)",
   "language": "python",
   "name": "python3"
  },
  "language_info": {
   "codemirror_mode": {
    "name": "ipython",
    "version": 3
   },
   "file_extension": ".py",
   "mimetype": "text/x-python",
   "name": "python",
   "nbconvert_exporter": "python",
   "pygments_lexer": "ipython3",
   "version": "3.9.10"
  }
 },
 "nbformat": 4,
 "nbformat_minor": 5
}
